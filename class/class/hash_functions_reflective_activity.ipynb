{
 "cells": [
  {
   "cell_type": "markdown",
   "id": "016adbd8",
   "metadata": {},
   "source": [
    "# Hash Function Distribution Examples\n",
    "This notebook contains Python code examples for evaluating hash function distribution across buckets."
   ]
  },
  {
   "cell_type": "code",
   "execution_count": 15,
   "id": "23910e86",
   "metadata": {},
   "outputs": [],
   "source": [
    "import matplotlib.pyplot as plt\n",
    "from collections import defaultdict\n",
    "import hashlib\n",
    "import statistics"
   ]
  },
  {
   "cell_type": "markdown",
   "id": "2960cd08",
   "metadata": {},
   "source": [
    "## Utility Function: Bucket Distribution"
   ]
  },
  {
   "cell_type": "code",
   "execution_count": 17,
   "id": "4c88ff01",
   "metadata": {},
   "outputs": [],
   "source": [
    "def bucket_distribution(data, num_buckets, hash_fn):\n",
    "    buckets = defaultdict(list)\n",
    "    for item in data:\n",
    "        bucket = hash_fn(item) % num_buckets\n",
    "        buckets[bucket].append(item)\n",
    "    return buckets"
   ]
  },
  {
   "cell_type": "markdown",
   "id": "54bb555f",
   "metadata": {},
   "source": [
    "## Hash Function Definitions"
   ]
  },
  {
   "cell_type": "code",
   "execution_count": 12,
   "id": "ead8945d",
   "metadata": {},
   "outputs": [],
   "source": [
    "def poor_hash(key):\n",
    "    return len(key)\n",
    "\n",
    "def simple_ascii_sum(key):\n",
    "    return sum(ord(char) for char in key)\n",
    "\n",
    "def hash_sha256(key):\n",
    "    return int(hashlib.sha256(key.encode()).hexdigest(), 16)"
   ]
  },
  {
   "cell_type": "markdown",
   "id": "8563e285",
   "metadata": {},
   "source": [
    "## Dataset and Plotting Utility"
   ]
  },
  {
   "cell_type": "code",
   "execution_count": 18,
   "id": "caeca4fb",
   "metadata": {},
   "outputs": [],
   "source": [
    "data = [f\"key{i}\" for i in range(1000)]\n",
    "num_buckets = 10\n",
    "\n",
    "def plot_distribution(title, counts):\n",
    "    plt.bar(range(len(counts)), counts)\n",
    "    plt.title(title)\n",
    "    plt.xlabel(\"Bucket\")\n",
    "    plt.ylabel(\"# of Keys\")\n",
    "    plt.show()"
   ]
  },
  {
   "cell_type": "markdown",
   "id": "e8911f53",
   "metadata": {},
   "source": [
    "## Example 1: Python Built-in hash()"
   ]
  },
  {
   "cell_type": "code",
   "execution_count": null,
   "id": "bc164d07",
   "metadata": {},
   "outputs": [],
   "source": [
    "buckets = bucket_distribution(data, num_buckets, hash)\n",
    "counts = [len(buckets[i]) for i in range(num_buckets)]\n",
    "plot_distribution(\"Bucket Distribution with Built-in hash()\", counts)"
   ]
  },
  {
   "cell_type": "markdown",
   "id": "aa84850e",
   "metadata": {},
   "source": [
    "## Example 2: Poor Hash Function (len of key)"
   ]
  },
  {
   "cell_type": "code",
   "execution_count": null,
   "id": "0c83c002",
   "metadata": {},
   "outputs": [],
   "source": [
    "buckets = bucket_distribution(data, num_buckets, poor_hash)\n",
    "counts = [len(buckets[i]) for i in range(num_buckets)]\n",
    "plot_distribution(\"Poor Hash Function: len(key)\", counts)"
   ]
  },
  {
   "cell_type": "markdown",
   "id": "bf37655c",
   "metadata": {},
   "source": [
    "## Example 3: Simple ASCII Sum"
   ]
  },
  {
   "cell_type": "code",
   "execution_count": null,
   "id": "57c91a66",
   "metadata": {},
   "outputs": [],
   "source": [
    "buckets = bucket_distribution(data, num_buckets, simple_ascii_sum)\n",
    "counts = [len(buckets[i]) for i in range(num_buckets)]\n",
    "plot_distribution(\"Simple ASCII Sum Hash Function\", counts)"
   ]
  },
  {
   "cell_type": "markdown",
   "id": "fec7c355",
   "metadata": {},
   "source": [
    "## Example 4: SHA-256"
   ]
  },
  {
   "cell_type": "code",
   "execution_count": null,
   "id": "5a0992bc",
   "metadata": {},
   "outputs": [],
   "source": [
    "buckets = bucket_distribution(data, num_buckets, hash_sha256)\n",
    "counts = [len(buckets[i]) for i in range(num_buckets)]\n",
    "plot_distribution(\"SHA-256 Hash Function\", counts)"
   ]
  },
  {
   "cell_type": "markdown",
   "id": "405d83b4",
   "metadata": {},
   "source": [
    "## Metrics for Last Distribution"
   ]
  },
  {
   "cell_type": "code",
   "execution_count": 9,
   "id": "117837bd",
   "metadata": {},
   "outputs": [
    {
     "ename": "NameError",
     "evalue": "name 'statistics' is not defined",
     "output_type": "error",
     "traceback": [
      "\u001b[31m---------------------------------------------------------------------------\u001b[39m",
      "\u001b[31mNameError\u001b[39m                                 Traceback (most recent call last)",
      "\u001b[36mCell\u001b[39m\u001b[36m \u001b[39m\u001b[32mIn[9]\u001b[39m\u001b[32m, line 1\u001b[39m\n\u001b[32m----> \u001b[39m\u001b[32m1\u001b[39m std_dev = \u001b[43mstatistics\u001b[49m.stdev(counts)\n\u001b[32m      2\u001b[39m max_bucket = \u001b[38;5;28mmax\u001b[39m(counts)\n\u001b[32m      3\u001b[39m collisions = \u001b[38;5;28msum\u001b[39m(count - \u001b[32m1\u001b[39m \u001b[38;5;28;01mfor\u001b[39;00m count \u001b[38;5;129;01min\u001b[39;00m counts \u001b[38;5;28;01mif\u001b[39;00m count > \u001b[32m1\u001b[39m)\n",
      "\u001b[31mNameError\u001b[39m: name 'statistics' is not defined"
     ]
    }
   ],
   "source": [
    "std_dev = statistics.stdev(counts)\n",
    "max_bucket = max(counts)\n",
    "collisions = sum(count - 1 for count in counts if count > 1)\n",
    "\n",
    "print(\"=== Distribution Metrics ===\")\n",
    "print(f\"Standard Deviation: {std_dev:.2f}\")\n",
    "print(f\"Max Bucket Size: {max_bucket}\")\n",
    "print(f\"Collisions: {collisions}\")"
   ]
  },
  {
   "cell_type": "markdown",
   "id": "8957d786",
   "metadata": {},
   "source": [
    "REFLECTION #1\n",
    "I think that the custom ASCII hash definitely surprised me the most, especially considering that there are no differences between the buckets. I would have expected at least a little bit of variety!\n",
    "\n",
    "REFLECTION #2\n",
    "If I were to make my own hash function I would definitely utilize using a prime number as my hash key (that is at least greater than 5), this minimizes the risk of clusters forming (like they would if we used an even number, 3, or 5 as our key). If I had used a poorly chosen key, such as an even number, 3, or 5 (or honestly any small number), it would break our hash buckets very easily. For example, let's say I chose a multiple of 5, like 15, inputs like: 15, 30, 45, 105, 135, etc. would all map to 0 (that would be a pretty noticable jump in our bucket values). Thus I would choose a large prime number such as 653 or something like that.\n"
   ]
  },
  {
   "cell_type": "code",
   "execution_count": null,
   "id": "5b6379d5",
   "metadata": {},
   "outputs": [
    {
     "name": "stdout",
     "output_type": "stream",
     "text": [
      "3366677930981417811\n",
      "3343209065121246154\n",
      "3343209065121246154\n"
     ]
    }
   ],
   "source": [
    "print(hash(\"cherry\"))\n",
    "print(hash(\"banana\"))"
   ]
  }
 ],
 "metadata": {
  "kernelspec": {
   "display_name": "Python 3",
   "language": "python",
   "name": "python3"
  },
  "language_info": {
   "codemirror_mode": {
    "name": "ipython",
    "version": 3
   },
   "file_extension": ".py",
   "mimetype": "text/x-python",
   "name": "python",
   "nbconvert_exporter": "python",
   "pygments_lexer": "ipython3",
   "version": "3.13.2"
  }
 },
 "nbformat": 4,
 "nbformat_minor": 5
}
